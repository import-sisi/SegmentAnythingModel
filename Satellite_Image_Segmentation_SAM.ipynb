{
 "cells": [
  {
   "cell_type": "markdown",
   "id": "009e4709",
   "metadata": {},
   "source": [
    "# Satellite Image Segmentation using SAM (Segment Anything Model)"
   ]
  },
  {
   "cell_type": "code",
   "execution_count": null,
   "id": "c283fc56",
   "metadata": {},
   "outputs": [],
   "source": [
    "# Step 1: Install the necessary packages\n",
    "!pip install git+https://github.com/facebookresearch/segment-anything.git\n",
    "!pip install opencv-python matplotlib"
   ]
  },
  {
   "cell_type": "markdown",
   "id": "998d42ec",
   "metadata": {},
   "source": [
    "### Step 2: Download and Load a Satellite Image"
   ]
  },
  {
   "cell_type": "code",
   "execution_count": null,
   "id": "65133641",
   "metadata": {},
   "outputs": [],
   "source": [
    "import cv2\n",
    "import matplotlib.pyplot as plt\n",
    "\n",
    "# You can replace the below image URL with your satellite image or dataset path\n",
    "image_url = \"https://upload.wikimedia.org/wikipedia/commons/8/84/Nasa_landcover_Large.png\"\n",
    "image_path = \"satellite_image.jpg\"\n",
    "\n",
    "# Downloading the image\n",
    "import urllib.request\n",
    "urllib.request.urlretrieve(image_url, image_path)\n",
    "\n",
    "# Load the image\n",
    "image = cv2.imread(image_path)\n",
    "image = cv2.cvtColor(image, cv2.COLOR_BGR2RGB)\n",
    "\n",
    "# Display the image\n",
    "plt.figure(figsize=(10, 10))\n",
    "plt.imshow(image)\n",
    "plt.axis('on')\n",
    "plt.show()"
   ]
  },
  {
   "cell_type": "markdown",
   "id": "b73b3308",
   "metadata": {},
   "source": [
    "### Step 3: Load SAM and Set the Image for Prediction"
   ]
  },
  {
   "cell_type": "code",
   "execution_count": null,
   "id": "60ad056b",
   "metadata": {},
   "outputs": [],
   "source": [
    "import torch\n",
    "from segment_anything import SamPredictor, sam_model_registry\n",
    "\n",
    "# Load SAM model\n",
    "sam = sam_model_registry[\"default\"](checkpoint=\"sam_vit_h_4b8939.pth\")  # Ensure you have downloaded the checkpoint\n",
    "device = \"cuda\" if torch.cuda.is_available() else \"cpu\"\n",
    "sam.to(device)\n",
    "\n",
    "# Create the predictor\n",
    "predictor = SamPredictor(sam)\n",
    "\n",
    "# Set the image for prediction\n",
    "predictor.set_image(image)"
   ]
  },
  {
   "cell_type": "markdown",
   "id": "e441e91c",
   "metadata": {},
   "source": [
    "### Step 4: Define Points for Segmentation"
   ]
  },
  {
   "cell_type": "code",
   "execution_count": null,
   "id": "d5762918",
   "metadata": {},
   "outputs": [],
   "source": [
    "import numpy as np\n",
    "\n",
    "# Define a point on the image for segmentation (x, y)\n",
    "input_point = np.array([[800, 500]])  # You can modify the coordinates based on your image\n",
    "input_label = np.array([1])  # 1 for positive label\n",
    "\n",
    "# Show the selected point on the image\n",
    "plt.figure(figsize=(10, 10))\n",
    "plt.imshow(image)\n",
    "plt.scatter(input_point[:, 0], input_point[:, 1], color='green', marker='*', s=300, edgecolor='white')\n",
    "plt.axis('on')\n",
    "plt.show()"
   ]
  },
  {
   "cell_type": "markdown",
   "id": "d01e78bb",
   "metadata": {},
   "source": [
    "### Step 5: Perform Segmentation"
   ]
  },
  {
   "cell_type": "code",
   "execution_count": null,
   "id": "9b82dd35",
   "metadata": {},
   "outputs": [],
   "source": [
    "# Perform segmentation with SAM\n",
    "masks, scores, logits = predictor.predict(\n",
    "    point_coords=input_point,\n",
    "    point_labels=input_label,\n",
    "    multimask_output=True\n",
    ")\n",
    "\n",
    "# Visualize the mask on the satellite image\n",
    "for i, (mask, score) in enumerate(zip(masks, scores)):\n",
    "    plt.figure(figsize=(10, 10))\n",
    "    plt.imshow(image)\n",
    "    h, w = mask.shape[-2:]\n",
    "    mask_image = mask.reshape(h, w, 1) * np.array([30/255, 144/255, 255/255, 0.6]).reshape(1, 1, -1)\n",
    "    plt.imshow(mask_image)\n",
    "    plt.title(f\"Mask {i+1}, Score: {score:.3f}\", fontsize=18)\n",
    "    plt.axis('off')\n",
    "    plt.show()"
   ]
  },
  {
   "cell_type": "markdown",
   "id": "1d991234",
   "metadata": {},
   "source": [
    "### Step 6: Perform Advanced Segmentation with Boxes"
   ]
  },
  {
   "cell_type": "code",
   "execution_count": null,
   "id": "42f0bb32",
   "metadata": {},
   "outputs": [],
   "source": [
    "# Define a bounding box for segmentation\n",
    "input_box = np.array([600, 400, 1200, 800])\n",
    "\n",
    "# Perform segmentation with the box\n",
    "masks, _, _ = predictor.predict(\n",
    "    point_coords=None,\n",
    "    point_labels=None,\n",
    "    box=input_box[None, :],\n",
    "    multimask_output=False\n",
    ")\n",
    "\n",
    "# Visualize the result\n",
    "plt.figure(figsize=(10, 10))\n",
    "plt.imshow(image)\n",
    "h, w = masks[0].shape[-2:]\n",
    "mask_image = masks[0].reshape(h, w, 1) * np.array([30/255, 144/255, 255/255, 0.6]).reshape(1, 1, -1)\n",
    "plt.imshow(mask_image)\n",
    "plt.gca().add_patch(plt.Rectangle((input_box[0], input_box[1]), input_box[2] - input_box[0], input_box[3] - input_box[1],\n",
    "                                  edgecolor='green', facecolor='none', lw=2))\n",
    "plt.axis('off')\n",
    "plt.show()"
   ]
  }
 ],
 "metadata": {},
 "nbformat": 4,
 "nbformat_minor": 5
}
